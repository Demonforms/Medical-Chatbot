{
 "cells": [
  {
   "cell_type": "markdown",
   "id": "fbb0b015",
   "metadata": {},
   "source": [
    "<h2 align=\"center\">Medical Chatbot Project Source by Devesh Singh</h2>"
   ]
  },
  {
   "cell_type": "code",
   "execution_count": 1,
   "id": "1f010eba",
   "metadata": {},
   "outputs": [
    {
     "name": "stderr",
     "output_type": "stream",
     "text": [
      "c:\\Users\\deves\\Desktop\\Projects\\Medical-Chatbot\\.venv\\Lib\\site-packages\\tqdm\\auto.py:21: TqdmWarning: IProgress not found. Please update jupyter and ipywidgets. See https://ipywidgets.readthedocs.io/en/stable/user_install.html\n",
      "  from .autonotebook import tqdm as notebook_tqdm\n"
     ]
    }
   ],
   "source": [
    "from langchain.document_loaders import PyPDFLoader, DirectoryLoader\n",
    "from langchain.text_splitter import RecursiveCharacterTextSplitter"
   ]
  },
  {
   "cell_type": "code",
   "execution_count": 2,
   "id": "580c084a",
   "metadata": {},
   "outputs": [],
   "source": [
    "def load_pdf(path):\n",
    "    loader = DirectoryLoader(path = path, glob = \"*.pdf\", loader_cls = PyPDFLoader)\n",
    "    documents = loader.load()\n",
    "    return documents"
   ]
  },
  {
   "cell_type": "code",
   "execution_count": 3,
   "id": "3bc9257c",
   "metadata": {},
   "outputs": [],
   "source": [
    "pdf_data = load_pdf(\"../Resources\")"
   ]
  },
  {
   "cell_type": "code",
   "execution_count": 12,
   "id": "1cee43f5",
   "metadata": {},
   "outputs": [
    {
     "data": {
      "text/plain": [
       "langchain_core.documents.base.Document"
      ]
     },
     "execution_count": 12,
     "metadata": {},
     "output_type": "execute_result"
    }
   ],
   "source": [
    "type(pdf_data[4])"
   ]
  },
  {
   "cell_type": "code",
   "execution_count": null,
   "id": "c53e66d4",
   "metadata": {},
   "outputs": [],
   "source": [
    "# split the pdf data into chunks of size 500 with an overlap of 20\n",
    "def text_split(pdf_data):\n",
    "    text_splitter = RecursiveCharacterTextSplitter(chunk_size = 500, chunk_overlap = 20)\n",
    "    chunks = text_splitter.split_documents(pdf_data)\n",
    "    return chunks"
   ]
  },
  {
   "cell_type": "code",
   "execution_count": 14,
   "id": "f7b180d1",
   "metadata": {},
   "outputs": [
    {
     "data": {
      "text/plain": [
       "40000"
      ]
     },
     "execution_count": 14,
     "metadata": {},
     "output_type": "execute_result"
    }
   ],
   "source": [
    "text_chunks = text_split(pdf_data)\n",
    "len(text_chunks)"
   ]
  },
  {
   "cell_type": "code",
   "execution_count": 18,
   "id": "1023eda9",
   "metadata": {},
   "outputs": [
    {
     "data": {
      "text/plain": [
       "'The GALE\\nENCYCLOPEDIA of\\nMEDICINE\\nTHIRD EDITION'"
      ]
     },
     "execution_count": 18,
     "metadata": {},
     "output_type": "execute_result"
    }
   ],
   "source": [
    "text_chunks[0].page_content"
   ]
  },
  {
   "cell_type": "code",
   "execution_count": 19,
   "id": "7152e3d6",
   "metadata": {},
   "outputs": [],
   "source": [
    "from langchain.embeddings import HuggingFaceEmbeddings"
   ]
  },
  {
   "cell_type": "code",
   "execution_count": null,
   "id": "2edd8a32",
   "metadata": {},
   "outputs": [],
   "source": [
    "# function to get huggingface embeddings this model is small and fast and output embeddings of size 384\n",
    "def get_huggingface_embeddings():\n",
    "    model_name = \"sentence-transformers/all-MiniLM-L6-v2\"\n",
    "    hf_embeddings = HuggingFaceEmbeddings(model_name = model_name)\n",
    "    return hf_embeddings"
   ]
  },
  {
   "cell_type": "code",
   "execution_count": 21,
   "id": "6f296a59",
   "metadata": {},
   "outputs": [
    {
     "name": "stderr",
     "output_type": "stream",
     "text": [
      "C:\\Users\\deves\\AppData\\Local\\Temp\\ipykernel_3964\\2125091314.py:3: LangChainDeprecationWarning: The class `HuggingFaceEmbeddings` was deprecated in LangChain 0.2.2 and will be removed in 1.0. An updated version of the class exists in the :class:`~langchain-huggingface package and should be used instead. To use it run `pip install -U :class:`~langchain-huggingface` and import as `from :class:`~langchain_huggingface import HuggingFaceEmbeddings``.\n",
      "  hf_embeddings = HuggingFaceEmbeddings(model_name = model_name)\n"
     ]
    }
   ],
   "source": [
    "embeddings = get_huggingface_embeddings()"
   ]
  },
  {
   "cell_type": "code",
   "execution_count": 47,
   "id": "70448bf2",
   "metadata": {},
   "outputs": [
    {
     "data": {
      "text/plain": [
       "True"
      ]
     },
     "execution_count": 47,
     "metadata": {},
     "output_type": "execute_result"
    }
   ],
   "source": [
    "from dotenv import load_dotenv\n",
    "load_dotenv()"
   ]
  },
  {
   "cell_type": "code",
   "execution_count": null,
   "id": "0244532e",
   "metadata": {},
   "outputs": [],
   "source": [
    "# using pinecone as vector database to store the embeddings\n",
    "from pinecone.grpc import PineconeGRPC as Pinecone\n",
    "from pinecone import ServerlessSpec\n",
    "\n",
    "pc = Pinecone()\n",
    "\n",
    "index_name = \"medical-chatbot-index\"\n",
    "\n",
    "if not pc.has_index(index_name):\n",
    "    pc.create_index(\n",
    "        name=index_name,\n",
    "        vector_type=\"dense\",\n",
    "        dimension=384,\n",
    "        metric=\"cosine\",\n",
    "        spec=ServerlessSpec(\n",
    "            cloud=\"aws\",\n",
    "            region=\"us-east-1\"\n",
    "        ),\n",
    "        deletion_protection=\"disabled\",\n",
    "        tags={\n",
    "            \"environment\": \"development\"\n",
    "        }\n",
    "    )"
   ]
  },
  {
   "cell_type": "code",
   "execution_count": 35,
   "id": "99300f03",
   "metadata": {},
   "outputs": [],
   "source": [
    "from langchain_pinecone import PineconeVectorStore"
   ]
  },
  {
   "cell_type": "code",
   "execution_count": 37,
   "id": "2b955d2c",
   "metadata": {},
   "outputs": [
    {
     "data": {
      "text/plain": [
       "<langchain_pinecone.vectorstores.PineconeVectorStore at 0x1822c996490>"
      ]
     },
     "execution_count": 37,
     "metadata": {},
     "output_type": "execute_result"
    }
   ],
   "source": [
    "# Took around 20 mins to upload 4000 chunks of 500 size each\n",
    "PineconeVectorStore.from_documents(documents=text_chunks, embedding=embeddings, index_name=index_name)"
   ]
  },
  {
   "cell_type": "code",
   "execution_count": null,
   "id": "9d2c4fe5",
   "metadata": {},
   "outputs": [],
   "source": [
    "pc_index = PineconeVectorStore.from_existing_index(index_name=index_name, embedding=embeddings)\n",
    "retriever = pc_index.as_retriever(\n",
    "    search_type=\"similarity\",\n",
    "    search_kwargs={\"k\": 3}\n",
    ")"
   ]
  },
  {
   "cell_type": "code",
   "execution_count": 87,
   "id": "5832bb18",
   "metadata": {},
   "outputs": [],
   "source": [
    "value = retriever.invoke(\"What is Asthma\")"
   ]
  },
  {
   "cell_type": "code",
   "execution_count": 88,
   "id": "0cf7efcc",
   "metadata": {},
   "outputs": [
    {
     "data": {
      "text/plain": [
       "'Asthma\\nDefinition\\nAsthma is a chronic (long-lasting) inflammatory\\ndisease of the airways. In those susceptible to asthma,\\nthis inflammation causes the airways to narrow peri-\\nodically. This, in turn, produceswheezing and breath-\\nlessness, sometimes to the point where the patient\\ngasps for air. Obstruction to air flow either stops\\nspontaneously or responds to a wide range of treat-\\nments, but continuing inflammation makes the\\n424 GALE ENCYCLOPEDIA OF MEDICINE\\nAsthma'"
      ]
     },
     "execution_count": 88,
     "metadata": {},
     "output_type": "execute_result"
    }
   ],
   "source": [
    "value[0].page_content"
   ]
  },
  {
   "cell_type": "code",
   "execution_count": 89,
   "id": "686d83d7",
   "metadata": {},
   "outputs": [],
   "source": [
    "from langchain_groq import ChatGroq"
   ]
  },
  {
   "cell_type": "code",
   "execution_count": 90,
   "id": "3a2bf291",
   "metadata": {},
   "outputs": [],
   "source": [
    "model = \"openai/gpt-oss-120b\"\n",
    "llm = ChatGroq(model = model, temperature = 0.5, max_tokens = 500)"
   ]
  },
  {
   "cell_type": "code",
   "execution_count": 91,
   "id": "324c8fb2",
   "metadata": {},
   "outputs": [],
   "source": [
    "from langchain.chains import create_retrieval_chain\n",
    "from langchain.chains.combine_documents import create_stuff_documents_chain\n",
    "from langchain_core.prompts import ChatPromptTemplate"
   ]
  },
  {
   "cell_type": "code",
   "execution_count": null,
   "id": "a4f8fb54",
   "metadata": {},
   "outputs": [],
   "source": [
    "# prompt template data for the medical assistant\n",
    "system_prompt = \"\"\"You are helpful medical assistant. Use the following pieces of context to answer the question at the end. If you don't know the answer, just say that you don't know, don't try to make up an answer. Don't answer anything outside of medical queries. Use three sentences maximum and keep the answer as concise as possible. Always answer in a professional tone and manner. \\n\\n {context}\"\"\""
   ]
  },
  {
   "cell_type": "code",
   "execution_count": null,
   "id": "5cc5aceb",
   "metadata": {},
   "outputs": [],
   "source": [
    "# create the prompt template\n",
    "prompt = ChatPromptTemplate.from_messages([\n",
    "    (\"system\", system_prompt),\n",
    "    (\"user\", \"{input}\")\n",
    "])"
   ]
  },
  {
   "cell_type": "code",
   "execution_count": null,
   "id": "def0b857",
   "metadata": {},
   "outputs": [],
   "source": [
    "# create the retrieval chain\n",
    "query_chain = create_stuff_documents_chain(llm = llm, prompt = prompt)\n",
    "chain = create_retrieval_chain(retriever = retriever, combine_docs_chain = query_chain)"
   ]
  },
  {
   "cell_type": "code",
   "execution_count": 95,
   "id": "cd254f0c",
   "metadata": {},
   "outputs": [
    {
     "data": {
      "text/plain": [
       "'Asthma is a chronic inflammatory disease of the airways that causes periodic narrowing, leading to wheezing, breathlessness, and sometimes severe respiratory distress. The airway obstruction may resolve spontaneously or respond to treatment, but ongoing inflammation persists. Effective management focuses on reducing inflammation and preventing triggers.'"
      ]
     },
     "execution_count": 95,
     "metadata": {},
     "output_type": "execute_result"
    }
   ],
   "source": [
    "response = chain.invoke({\"input\": \"What is Asthma?\"})\n",
    "response[\"answer\"]"
   ]
  },
  {
   "cell_type": "code",
   "execution_count": 96,
   "id": "12fcb5ab",
   "metadata": {},
   "outputs": [
    {
     "data": {
      "text/plain": [
       "{'input': 'What is Retrival Augmented Generation?',\n",
       " 'context': [Document(id='d2d11799-113b-49e8-a42f-3c17885bae52', metadata={'creationdate': '2006-10-16T20:19:33+02:00', 'creator': 'Adobe Acrobat 6.0', 'moddate': '2006-10-16T22:03:45+02:00', 'page': 1608.0, 'page_label': '1579', 'producer': 'PDFlib+PDI 6.0.3 (SunOS)', 'source': '..\\\\Resources\\\\The-Gale-Encyclopedia-of-Medicine-3rd-Edition.pdf', 'total_pages': 4505.0}, page_content='inserted genes can be naturally-occurring genes that\\nproduce the desired effect or may be genetically engi-\\nneered (or altered) genes.\\nScientists have known how to manipulate a gene’s\\nstructure in the laboratory since the early 1970s through\\na process called gene splicing. The process involves\\nremoving a fragment of DNA containing the specific\\ngenetic sequence desired, then inserting it into the DNA\\nof another gene. The resultant product is called recom-'),\n",
       "  Document(id='6b3c9755-2c90-45ed-ad7f-902601682e27', metadata={'creationdate': '2006-10-16T20:19:33+02:00', 'creator': 'Adobe Acrobat 6.0', 'moddate': '2006-10-16T22:03:45+02:00', 'page': 3114.0, 'page_label': '3085', 'producer': 'PDFlib+PDI 6.0.3 (SunOS)', 'source': '..\\\\Resources\\\\The-Gale-Encyclopedia-of-Medicine-3rd-Edition.pdf', 'total_pages': 4505.0}, page_content='Transference is the name that psychoanalysts\\nuse for the patient’s repetition of childlike ways of\\nrelating that were learned in early life. If the ther-\\napeutic alliance has been well established, the\\npatient will begin to transfer thoughts and feelings\\nconnected with siblings, parents, or other influen-\\ntial figures to the therapist. Discussing the trans-\\nference helps the patient gain insight into the ways\\nin which he or she misreads or misperceives other\\npeople in present life.'),\n",
       "  Document(id='011d9b12-6a9e-439f-aed8-748d1d90334b', metadata={'creationdate': '2006-10-16T20:19:33+02:00', 'creator': 'Adobe Acrobat 6.0', 'moddate': '2006-10-16T22:03:45+02:00', 'page': 1984.0, 'page_label': '1955', 'producer': 'PDFlib+PDI 6.0.3 (SunOS)', 'source': '..\\\\Resources\\\\The-Gale-Encyclopedia-of-Medicine-3rd-Edition.pdf', 'total_pages': 4505.0}, page_content='Retinoids— A derivative of synthetic Vitamin A.\\nSporadic— Isolated or appearing occasionally with\\nno apparent pattern.\\nX-linked dominant inheritance— The inheritance\\nof a trait by the presence of a single gene on the\\nX chromosome in a male or female, passed from an\\naffected female who has the gene on one of her\\nX chromosomes.\\nX-linked recessive inheritance— The inheritance of\\na trait by the presence of a single gene on the\\nX chromosome in a male, passed from a female')],\n",
       " 'answer': 'I’m sorry, but I don’t have information on that topic.'}"
      ]
     },
     "execution_count": 96,
     "metadata": {},
     "output_type": "execute_result"
    }
   ],
   "source": [
    "response = chain.invoke({\"input\": \"What is Retrival Augmented Generation?\"})\n",
    "response"
   ]
  },
  {
   "cell_type": "code",
   "execution_count": 97,
   "id": "e52741fa",
   "metadata": {},
   "outputs": [
    {
     "name": "stdout",
     "output_type": "stream",
     "text": [
      "0.374864131 inserted genes can be naturally-occurring genes that\n",
      "produce the desired effect or may be genetically engi-\n",
      "neered (or altered) genes.\n",
      "Scientists have known how to manipulate a gene’s\n",
      "structure in the\n",
      "0.34870249 Transference is the name that psychoanalysts\n",
      "use for the patient’s repetition of childlike ways of\n",
      "relating that were learned in early life. If the ther-\n",
      "apeutic alliance has been well established, th\n",
      "0.343909293 Retinoids— A derivative of synthetic Vitamin A.\n",
      "Sporadic— Isolated or appearing occasionally with\n",
      "no apparent pattern.\n",
      "X-linked dominant inheritance— The inheritance\n",
      "of a trait by the presence of a si\n",
      "0.342236549 Suite 2, Santa Cruz, CA 95060. (831) 457-1004, Fax:\n",
      "(831) 426-4383. <http://www.trich.org> .\n",
      "Liz Meszaros\n",
      "Rebecca Frey, PhD\n",
      "In vitro fertilization\n",
      "Definition\n",
      "In vitro fertilization (IVF) is a procedur\n"
     ]
    }
   ],
   "source": [
    "docs_and_scores = retriever.vectorstore.similarity_search_with_score(\n",
    "    \"What is Retrival Augmented Generation?\", \n",
    "    k=4\n",
    ")\n",
    "\n",
    "for doc, score in docs_and_scores:\n",
    "    print(score, doc.page_content[:200])\n"
   ]
  },
  {
   "cell_type": "code",
   "execution_count": null,
   "id": "4f86bd12",
   "metadata": {},
   "outputs": [
    {
     "data": {
      "text/plain": [
       "[(Document(id='d2d11799-113b-49e8-a42f-3c17885bae52', metadata={'creationdate': '2006-10-16T20:19:33+02:00', 'creator': 'Adobe Acrobat 6.0', 'moddate': '2006-10-16T22:03:45+02:00', 'page': 1608.0, 'page_label': '1579', 'producer': 'PDFlib+PDI 6.0.3 (SunOS)', 'source': '..\\\\Resources\\\\The-Gale-Encyclopedia-of-Medicine-3rd-Edition.pdf', 'total_pages': 4505.0}, page_content='inserted genes can be naturally-occurring genes that\\nproduce the desired effect or may be genetically engi-\\nneered (or altered) genes.\\nScientists have known how to manipulate a gene’s\\nstructure in the laboratory since the early 1970s through\\na process called gene splicing. The process involves\\nremoving a fragment of DNA containing the specific\\ngenetic sequence desired, then inserting it into the DNA\\nof another gene. The resultant product is called recom-'),\n",
       "  0.374864131),\n",
       " (Document(id='6b3c9755-2c90-45ed-ad7f-902601682e27', metadata={'creationdate': '2006-10-16T20:19:33+02:00', 'creator': 'Adobe Acrobat 6.0', 'moddate': '2006-10-16T22:03:45+02:00', 'page': 3114.0, 'page_label': '3085', 'producer': 'PDFlib+PDI 6.0.3 (SunOS)', 'source': '..\\\\Resources\\\\The-Gale-Encyclopedia-of-Medicine-3rd-Edition.pdf', 'total_pages': 4505.0}, page_content='Transference is the name that psychoanalysts\\nuse for the patient’s repetition of childlike ways of\\nrelating that were learned in early life. If the ther-\\napeutic alliance has been well established, the\\npatient will begin to transfer thoughts and feelings\\nconnected with siblings, parents, or other influen-\\ntial figures to the therapist. Discussing the trans-\\nference helps the patient gain insight into the ways\\nin which he or she misreads or misperceives other\\npeople in present life.'),\n",
       "  0.34870249),\n",
       " (Document(id='011d9b12-6a9e-439f-aed8-748d1d90334b', metadata={'creationdate': '2006-10-16T20:19:33+02:00', 'creator': 'Adobe Acrobat 6.0', 'moddate': '2006-10-16T22:03:45+02:00', 'page': 1984.0, 'page_label': '1955', 'producer': 'PDFlib+PDI 6.0.3 (SunOS)', 'source': '..\\\\Resources\\\\The-Gale-Encyclopedia-of-Medicine-3rd-Edition.pdf', 'total_pages': 4505.0}, page_content='Retinoids— A derivative of synthetic Vitamin A.\\nSporadic— Isolated or appearing occasionally with\\nno apparent pattern.\\nX-linked dominant inheritance— The inheritance\\nof a trait by the presence of a single gene on the\\nX chromosome in a male or female, passed from an\\naffected female who has the gene on one of her\\nX chromosomes.\\nX-linked recessive inheritance— The inheritance of\\na trait by the presence of a single gene on the\\nX chromosome in a male, passed from a female'),\n",
       "  0.343909293)]"
      ]
     },
     "execution_count": 101,
     "metadata": {},
     "output_type": "execute_result"
    }
   ],
   "source": [
    "pc_index.similarity_search_with_score(query = \"What is Retrival Augmented Generation?\", k=3, )"
   ]
  },
  {
   "cell_type": "code",
   "execution_count": null,
   "id": "21fd51e6",
   "metadata": {},
   "outputs": [],
   "source": []
  }
 ],
 "metadata": {
  "kernelspec": {
   "display_name": "medical-chatbot",
   "language": "python",
   "name": "python3"
  },
  "language_info": {
   "codemirror_mode": {
    "name": "ipython",
    "version": 3
   },
   "file_extension": ".py",
   "mimetype": "text/x-python",
   "name": "python",
   "nbconvert_exporter": "python",
   "pygments_lexer": "ipython3",
   "version": "3.13.7"
  }
 },
 "nbformat": 4,
 "nbformat_minor": 5
}
